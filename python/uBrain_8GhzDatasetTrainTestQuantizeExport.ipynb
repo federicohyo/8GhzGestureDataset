{
 "cells": [
  {
   "cell_type": "code",
   "execution_count": 1,
   "metadata": {},
   "outputs": [],
   "source": [
    "hidden1_size = 64\n",
    "output_size = 4\n",
    "n_epochs = 200  # suggest training between 20-50 epochs\n",
    "batch_size_test = 5\n",
    "batch_size_train = 5"
   ]
  },
  {
   "cell_type": "code",
   "execution_count": 2,
   "metadata": {},
   "outputs": [],
   "source": [
    "import torch\n",
    "import torchvision\n",
    "import matplotlib as plt\n",
    "from pylab import *"
   ]
  },
  {
   "cell_type": "code",
   "execution_count": 3,
   "metadata": {},
   "outputs": [],
   "source": [
    "from sklearn import svm\n",
    "import pandas as pd\n",
    "import numpy as np\n",
    "from sklearn.utils import shuffle\n",
    "from sklearn.metrics import confusion_matrix\n",
    "\n",
    "def shuffle_in_unison(a, b):\n",
    "    rng_state = np.random.get_state()\n",
    "    np.random.shuffle(a)\n",
    "    np.random.set_state(rng_state)\n",
    "    np.random.shuffle(b)\n",
    "\n",
    "\n",
    "## data use deltas\n",
    "DATA_PATH = 'pyDatasetTools/data/'\n",
    "DATA_PATH_ubrain = '/mnt/space/datasets/radar8ghz/processed_ubrain/'\n",
    "\n",
    "dimx = 16      # we need to trash one chirp as we do diff!\n",
    "dimy = 16  \n",
    "channels = 2\n",
    "validation_split = 0.8\n",
    "freq_input = 155\n",
    "\n",
    "data_x = pd.read_csv(DATA_PATH_ubrain + \"all_data_radar_1.0_28x28.txt\")\n",
    "data_y = pd.read_csv(DATA_PATH_ubrain + \"all_label_radar_1.0_28x28.txt\")\n",
    "\n",
    "data_x_ = []\n",
    "data_y_ = []\n",
    "for i in range(len(data_x.values)):\n",
    "    this_x = (((np.reshape(data_x.values[i],[-1,28 ,28])/1)-0.5)*2.0).astype('float32') ## OR 255!\n",
    "    this_x = np.resize(this_x, [1, 16,16])\n",
    "    this_x = this_x + 1\n",
    "    idx_freq = np.where(this_x == 2)\n",
    "    this_x[idx_freq] = 2\n",
    "    this_y = np.squeeze( np.reshape(data_y.values[i], [-1]) ) \n",
    "    data_x_.append( this_x ) \n",
    "    data_y_.append( this_y )"
   ]
  },
  {
   "cell_type": "code",
   "execution_count": 4,
   "metadata": {},
   "outputs": [],
   "source": [
    "## data use microdoppler\n",
    "DATA_PATH_ubrain = '/mnt/space/datasets/radar8ghz/processed/'\n",
    "\n",
    "dimx = 16      # we need to trash one chirp as we do diff!\n",
    "dimy = 16  \n",
    "channels = 2\n",
    "validation_split = 0.8\n",
    "\n",
    "data_x = np.load(DATA_PATH_ubrain+\"udoppler_spikes_small.npy\")\n",
    "data_y = np.load(DATA_PATH_ubrain+\"labeldata.npy\")\n",
    "\n",
    "from skimage.transform import resize\n",
    "data_x_ = []\n",
    "data_y_ = []\n",
    "for i in range(len(data_x)):\n",
    "    this_x = (((np.reshape(data_x[i],[28,28])))).astype('float32')\n",
    "    this_x = resize(this_x, [16,16])\n",
    "    mean_  = np.mean(this_x)\n",
    "    std_ = np.std(this_x)\n",
    "    thr_ = mean_ + 0.15*std_\n",
    "    thr_m = mean_ - 0.15*std_\n",
    "    idx_freq = np.where(this_x >=  thr_)\n",
    "    idx_freq_n = np.where(this_x <  thr_m)\n",
    "    this_x[:] = 0\n",
    "    this_x[idx_freq] = 2\n",
    "    #this_x[idx_freq_n] = 1\n",
    "    this_y = np.squeeze( np.reshape(data_y[i], [-1]) ) \n",
    "    data_x_.append( this_x ) \n",
    "    data_y_.append( this_y )"
   ]
  },
  {
   "cell_type": "code",
   "execution_count": 5,
   "metadata": {},
   "outputs": [
    {
     "name": "stdout",
     "output_type": "stream",
     "text": [
      "(1322, 16, 16)\n",
      "264\n"
     ]
    }
   ],
   "source": [
    "shuffle_in_unison(data_x_, data_y_)\n",
    "\n",
    "#use 80 % train and 20% test    \n",
    "n_train = round(len(data_x)*validation_split)\n",
    "n_test = len(data_x)-n_train\n",
    "\n",
    "## combine the tree classes into 1\n",
    "data_y_ = np.reshape(data_y_,[-1])\n",
    "print(np.shape(data_x_))\n",
    "print(n_test)"
   ]
  },
  {
   "cell_type": "code",
   "execution_count": 6,
   "metadata": {},
   "outputs": [],
   "source": [
    "#idx_z = data_y_ == 0\n",
    "#idx_o = data_y_ == 1\n",
    "#idx_t = data_y_ == 2\n",
    "#idx_e = data_y_ == 3\n",
    "#idx_b = data_y_ == 4\n",
    "\n",
    "#data_y_[idx_z] = 0\n",
    "#data_y_[idx_o] = 0\n",
    "#data_y_[idx_t] = 0\n",
    "#data_y_[idx_e] = 1\n",
    "#data_y_[idx_b] = 2\n",
    "\n",
    "# ['Hel', 'Tow', 'Hor', 'Bck', 'Ver']\n",
    "idx_e = data_y_ == 0\n",
    "idx_t = data_y_ == 1\n",
    "idx_h = data_y_ == 2\n",
    "idx_b = data_y_ == 3\n",
    "idx_v = data_y_ == 4\n",
    "\n",
    "data_y_[idx_e] = 0\n",
    "data_y_[idx_t] = 1\n",
    "data_y_[idx_h] = 2\n",
    "data_y_[idx_b] = 3\n",
    "data_y_[idx_v] = 2"
   ]
  },
  {
   "cell_type": "code",
   "execution_count": 7,
   "metadata": {},
   "outputs": [
    {
     "name": "stdout",
     "output_type": "stream",
     "text": [
      "Accuracy SVM 0.9818731117824774\n",
      "[[ 53   0   0   2]\n",
      " [  0  71   1   0]\n",
      " [  1   2 150   0]\n",
      " [  0   0   0  51]]\n"
     ]
    }
   ],
   "source": [
    "from sklearn.model_selection import train_test_split #liste_mffc\n",
    "X_train, X_test, y_train, y_test=train_test_split(data_x_,data_y_, test_size=0.25,random_state=31)\n",
    "\n",
    "from sklearn import svm\n",
    "clf = svm.SVC()\n",
    "clf.fit(np.reshape(X_train, [-1,16*16]), y_train)\n",
    "pred_ = clf.predict(np.reshape(X_test,[-1,16*16]))\n",
    "correct = np.sum(y_test == pred_)\n",
    "accuracy_ = float(correct) / len(y_test)\n",
    "print(\"Accuracy SVM \" +str(accuracy_))\n",
    "from sklearn.metrics import confusion_matrix\n",
    "cm = confusion_matrix(y_test, pred_)\n",
    "print(cm)"
   ]
  },
  {
   "cell_type": "code",
   "execution_count": 8,
   "metadata": {},
   "outputs": [
    {
     "data": {
      "image/png": "[encoded data removed]",
      "text/plain": [
       "<Figure size 216x864 with 30 Axes>"
      ]
     },
     "metadata": {},
     "output_type": "display_data"
    }
   ],
   "source": [
    "fig = plt.figure(figsize=(3, 12))\n",
    "\n",
    "for idx in np.arange(30):\n",
    "    ax = fig.add_subplot(10, 3, idx+1, xticks=[], yticks=[])\n",
    "    ax.imshow(np.squeeze(np.reshape(X_train[idx], [16,16])), cmap='gray')\n",
    "    ax.set_title(\"{}\".format(str(y_train[idx].item())),color=(\"green\"))\n",
    "    plt.tight_layout()"
   ]
  },
  {
   "cell_type": "code",
   "execution_count": 9,
   "metadata": {},
   "outputs": [],
   "source": [
    "import torch\n",
    "import torchvision\n",
    "from torch.utils.data import TensorDataset, DataLoader\n",
    "\n",
    "batch_size_test = 6\n",
    "batch_size_train = 6\n",
    "\n",
    "tensor_x = torch.tensor(X_train) # transform to torch tensor\n",
    "tensor_y = torch.tensor(y_train)\n",
    "tensor_test_x = torch.tensor(X_test) # transform to torch tensor\n",
    "tensor_test_y = torch.tensor(y_test)\n",
    "train_dataset = TensorDataset(tensor_x,tensor_y) # create your datset\n",
    "test_dataset = TensorDataset(tensor_test_x,tensor_test_y) # create your datset\n",
    "train_loader = DataLoader(train_dataset,  batch_size=batch_size_train, shuffle=True) \n",
    "                               # create your dataloader\n",
    "test_loader = DataLoader(test_dataset,batch_size=batch_size_test, shuffle=True,) # create your dataloader\n"
   ]
  },
  {
   "cell_type": "code",
   "execution_count": 10,
   "metadata": {},
   "outputs": [],
   "source": [
    "examples = enumerate(test_loader)\n",
    "batch_idx, (example_data, example_targets) = next(examples)"
   ]
  },
  {
   "cell_type": "code",
   "execution_count": 11,
   "metadata": {},
   "outputs": [
    {
     "data": {
      "text/plain": [
       "tensor([0., 0., 0., 0., 0., 0., 0., 0., 0., 0., 0., 0., 2., 2., 0., 0.])"
      ]
     },
     "execution_count": 11,
     "metadata": {},
     "output_type": "execute_result"
    }
   ],
   "source": [
    "example_data.shape\n",
    "example_data[1][0]"
   ]
  },
  {
   "cell_type": "code",
   "execution_count": 12,
   "metadata": {},
   "outputs": [
    {
     "data": {
      "image/png": "[encoded data removed]",
      "text/plain": [
       "<Figure size 432x288 with 6 Axes>"
      ]
     },
     "execution_count": 12,
     "metadata": {},
     "output_type": "execute_result"
    },
    {
     "data": {
      "image/png": "[encoded data removed]",
      "text/plain": [
       "<Figure size 432x288 with 6 Axes>"
      ]
     },
     "metadata": {},
     "output_type": "display_data"
    }
   ],
   "source": [
    "import matplotlib.pyplot as plt\n",
    "\n",
    "fig = plt.figure()\n",
    "for i in range(6):\n",
    "  plt.subplot(2,3,i+1)\n",
    "  plt.tight_layout()\n",
    "  plt.imshow(example_data[i], cmap='gray', interpolation='none')\n",
    "  plt.title(\"Ground Truth: {}\".format(example_targets[i]))\n",
    "  plt.xticks([])\n",
    "  plt.yticks([])\n",
    "fig"
   ]
  },
  {
   "cell_type": "code",
   "execution_count": 13,
   "metadata": {},
   "outputs": [
    {
     "name": "stdout",
     "output_type": "stream",
     "text": [
      "Using device: cuda\n",
      "\n"
     ]
    }
   ],
   "source": [
    "import torch.nn as nn\n",
    "import torch.nn.functional as F\n",
    "import torch.optim as optim\n",
    "\n",
    "device = torch.device('cuda' if torch.cuda.is_available() else 'cpu')\n",
    "print('Using device:', device)\n",
    "print()\n"
   ]
  },
  {
   "cell_type": "code",
   "execution_count": 14,
   "metadata": {},
   "outputs": [
    {
     "name": "stdout",
     "output_type": "stream",
     "text": [
      "Net(\n",
      "  (fc1): Linear(in_features=256, out_features=64, bias=False)\n",
      "  (fc2): Linear(in_features=64, out_features=4, bias=False)\n",
      "  (dropout): Dropout(p=0.1, inplace=False)\n",
      ")\n"
     ]
    }
   ],
   "source": [
    "import torch.nn as nn\n",
    "import torch.nn.functional as F\n",
    "\n",
    "\n",
    "## Define the NN architecture\n",
    "class Net(nn.Module):\n",
    "    def __init__(self):\n",
    "        super(Net, self).__init__()\n",
    "    \n",
    "        self.fc1 = nn.Linear(example_data.shape[1] * example_data.shape[2], hidden1_size, bias=False)\n",
    "        # linear layer (n_hidden -> hidden_2)\n",
    "        self.fc2 = nn.Linear(hidden1_size, output_size, bias=False)\n",
    "        # dropout layer (p=0.2)\n",
    "        # dropout prevents overfitting of data\n",
    "        self.dropout = nn.Dropout(0.1)\n",
    "\n",
    "        \n",
    "    def forward(self, x):\n",
    "        # flatten image input\n",
    "        x = x.view(-1, example_data.shape[1] * example_data.shape[2])\n",
    "        # add hidden layer, with relu activation function\n",
    "        x = F.relu(self.fc1(x))\n",
    "        x = self.dropout(x)\n",
    "        x = F.relu(self.fc2(x))\n",
    "        return x\n",
    "\n",
    "# initialize the NN\n",
    "#mask = torch.tensor([[1,0,0,1],[1,1,0,0],[1,1,1,0],[0,1,1,1],[0,0,1,1]])\n",
    "model = Net()\n",
    "\n",
    "#model = Net()\n",
    "print(model)"
   ]
  },
  {
   "cell_type": "code",
   "execution_count": 15,
   "metadata": {},
   "outputs": [],
   "source": [
    "## Specify loss and optimization functions\n",
    "\n",
    "# specify loss function\n",
    "criterion = nn.CrossEntropyLoss()\n",
    "\n",
    "# specify optimizer\n",
    "optimizer = torch.optim.SGD(model.parameters(), lr=0.1)"
   ]
  },
  {
   "cell_type": "code",
   "execution_count": 16,
   "metadata": {},
   "outputs": [
    {
     "name": "stdout",
     "output_type": "stream",
     "text": [
      "Epoch: 1 \tTraining Loss: 0.342880\n",
      "Epoch: 2 \tTraining Loss: 0.122679\n",
      "Epoch: 3 \tTraining Loss: 0.074096\n",
      "Epoch: 4 \tTraining Loss: 0.031078\n",
      "Epoch: 5 \tTraining Loss: 0.017929\n",
      "Epoch: 6 \tTraining Loss: 0.007096\n",
      "Epoch: 7 \tTraining Loss: 0.012194\n",
      "Epoch: 8 \tTraining Loss: 0.005285\n",
      "Epoch: 9 \tTraining Loss: 0.003398\n",
      "Epoch: 10 \tTraining Loss: 0.005553\n",
      "Epoch: 11 \tTraining Loss: 0.002887\n",
      "Epoch: 12 \tTraining Loss: 0.001409\n",
      "Epoch: 13 \tTraining Loss: 0.001219\n",
      "Epoch: 14 \tTraining Loss: 0.001189\n",
      "Epoch: 15 \tTraining Loss: 0.001693\n",
      "Epoch: 16 \tTraining Loss: 0.000956\n",
      "Epoch: 17 \tTraining Loss: 0.000856\n",
      "Epoch: 18 \tTraining Loss: 0.000815\n",
      "Epoch: 19 \tTraining Loss: 0.000595\n",
      "Epoch: 20 \tTraining Loss: 0.001113\n",
      "Epoch: 21 \tTraining Loss: 0.001098\n",
      "Epoch: 22 \tTraining Loss: 0.000742\n",
      "Epoch: 23 \tTraining Loss: 0.000947\n",
      "Epoch: 24 \tTraining Loss: 0.000483\n",
      "Epoch: 25 \tTraining Loss: 0.001124\n",
      "Epoch: 26 \tTraining Loss: 0.000956\n",
      "Epoch: 27 \tTraining Loss: 0.000727\n",
      "Epoch: 28 \tTraining Loss: 0.000583\n",
      "Epoch: 29 \tTraining Loss: 0.000419\n",
      "Epoch: 30 \tTraining Loss: 0.000483\n",
      "Epoch: 31 \tTraining Loss: 0.000522\n",
      "Epoch: 32 \tTraining Loss: 0.000442\n",
      "Epoch: 33 \tTraining Loss: 0.000360\n",
      "Epoch: 34 \tTraining Loss: 0.000321\n",
      "Epoch: 35 \tTraining Loss: 0.000248\n",
      "Epoch: 36 \tTraining Loss: 0.000321\n",
      "Epoch: 37 \tTraining Loss: 0.000430\n",
      "Epoch: 38 \tTraining Loss: 0.000387\n",
      "Epoch: 39 \tTraining Loss: 0.026069\n",
      "Epoch: 40 \tTraining Loss: 0.001031\n",
      "Epoch: 41 \tTraining Loss: 0.000728\n",
      "Epoch: 42 \tTraining Loss: 0.000904\n",
      "Epoch: 43 \tTraining Loss: 0.000384\n",
      "Epoch: 44 \tTraining Loss: 0.000480\n",
      "Epoch: 45 \tTraining Loss: 0.000362\n",
      "Epoch: 46 \tTraining Loss: 0.000631\n",
      "Epoch: 47 \tTraining Loss: 0.000374\n",
      "Epoch: 48 \tTraining Loss: 0.000417\n",
      "Epoch: 49 \tTraining Loss: 0.000632\n",
      "Epoch: 50 \tTraining Loss: 0.000435\n"
     ]
    }
   ],
   "source": [
    "# number of epochs to train the model\n",
    "\n",
    "model.train() # prep model for training\n",
    "n_epochs = 50\n",
    "for epoch in range(n_epochs):\n",
    "    # monitor training loss\n",
    "    train_loss = 0.0\n",
    "    \n",
    "    ###################\n",
    "    # train the model #\n",
    "    ###################\n",
    "    for data, target in train_loader:\n",
    "        # clear the gradients of all optimized variables\n",
    "        optimizer.zero_grad()\n",
    "        # forward pass: compute predicted outputs by passing inputs to the model\n",
    "        output = model(data)\n",
    "        # calculate the loss\n",
    "        loss = criterion(output, target)\n",
    "        # backward pass: compute gradient of the loss with respect to model parameters\n",
    "        loss.backward()\n",
    "        # perform a single optimization step (parameter update)\n",
    "        optimizer.step()\n",
    "        # update running training loss\n",
    "        train_loss += loss.item()*data.size(0)\n",
    "        \n",
    "    # print training statistics \n",
    "    # calculate average loss over an epoch\n",
    "    train_loss = train_loss/len(train_loader.dataset)\n",
    "\n",
    "    print('Epoch: {} \\tTraining Loss: {:.6f}'.format(\n",
    "        epoch+1, \n",
    "        train_loss\n",
    "        ))"
   ]
  },
  {
   "cell_type": "code",
   "execution_count": 17,
   "metadata": {},
   "outputs": [
    {
     "name": "stdout",
     "output_type": "stream",
     "text": [
      "Test Loss: 0.161698\n",
      "\n",
      "Test Accuracy of     0: 96% (53/55)\n",
      "Test Accuracy of     1: 97% (70/72)\n",
      "Test Accuracy of     2: 94% (145/153)\n",
      "Test Accuracy of     3: 100% (51/51)\n",
      "\n",
      "Test Accuracy (Overall): 96% (319/331)\n"
     ]
    }
   ],
   "source": [
    "# initialize lists to monitor test loss and accuracy\n",
    "test_loss = 0.0\n",
    "class_correct = list(0. for i in range(10))\n",
    "class_total = list(0. for i in range(10))\n",
    "batch_size = 100\n",
    "import numpy as np\n",
    "\n",
    "model.eval() # prep model for *evaluation*\n",
    "\n",
    "for data, target in test_loader:\n",
    "    # forward pass: compute predicted outputs by passing inputs to the model\n",
    "    output = model(data)\n",
    "    # calculate the loss\n",
    "    loss = criterion(output, target)\n",
    "    # update test loss \n",
    "    test_loss += loss.item()*data.size(0)\n",
    "    # convert output probabilities to predicted class\n",
    "    _, pred = torch.max(output, 1)\n",
    "    # compare predictions to true label\n",
    "    correct = np.squeeze(pred.eq(target.data.view_as(pred)))\n",
    "    # calculate test accuracy for each object class\n",
    "    for i in range(target.size()[0]):\n",
    "        if(target.size()[0] > 1):\n",
    "            label = target.data[i]\n",
    "            class_correct[label] += correct[i].item()\n",
    "            class_total[label] += 1\n",
    "        else:\n",
    "            label = target.data[i]\n",
    "            class_correct[label] += correct.item()\n",
    "            class_total[label] += 1\n",
    "            \n",
    "# calculate and print avg test loss\n",
    "test_loss = test_loss/len(test_loader.dataset)\n",
    "print('Test Loss: {:.6f}\\n'.format(test_loss))\n",
    "\n",
    "for i in range(len(np.unique(y_train))):\n",
    "    if class_total[i] > 0:\n",
    "        print('Test Accuracy of %5s: %2d%% (%2d/%2d)' % (\n",
    "            str(i), 100 * class_correct[i] / class_total[i],\n",
    "            np.sum(class_correct[i]), np.sum(class_total[i])))\n",
    "    else:\n",
    "        print('Test Accuracy of %5s: N/A (no training examples)' % (classes[i]))\n",
    "\n",
    "print('\\nTest Accuracy (Overall): %2d%% (%2d/%2d)' % (\n",
    "    100. * np.sum(class_correct) / np.sum(class_total),\n",
    "    np.sum(class_correct), np.sum(class_total)))"
   ]
  },
  {
   "cell_type": "code",
   "execution_count": 18,
   "metadata": {},
   "outputs": [
    {
     "data": {
      "image/png": "[encoded data removed]",
      "text/plain": [
       "<Figure size 1800x288 with 6 Axes>"
      ]
     },
     "metadata": {},
     "output_type": "display_data"
    }
   ],
   "source": [
    "# obtain one batch of test images\n",
    "for data, target in test_loader:\n",
    "    images= data\n",
    "    labels = target\n",
    "    break\n",
    "\n",
    "# get sample outputs\n",
    "output = model(images)\n",
    "# convert output probabilities to predicted class\n",
    "_, preds = torch.max(output, 1)\n",
    "# prep images for display\n",
    "images = images.numpy()\n",
    "\n",
    "# plot the images in the batch, along with predicted and true labels\n",
    "fig = plt.figure(figsize=(25, 4))\n",
    "for idx in np.arange(6):\n",
    "    ax = fig.add_subplot(2, 20/2, idx+1, xticks=[], yticks=[])\n",
    "    ax.imshow(np.squeeze(images[idx]), cmap='gray')\n",
    "    ax.set_title(\"{} ({})\".format(str(preds[idx].item()), str(labels[idx].item())),\n",
    "                 color=(\"green\" if preds[idx]==labels[idx] else \"red\"))"
   ]
  },
  {
   "cell_type": "code",
   "execution_count": 19,
   "metadata": {},
   "outputs": [],
   "source": [
    "ws0 = model.fc1.weight.detach().cpu().numpy()\n",
    "ws1 = model.fc2.weight.detach().cpu().numpy()\n",
    "ws1_f = np.zeros([16,64])\n",
    "ws1_f[0:4,:] = ws1"
   ]
  },
  {
   "cell_type": "code",
   "execution_count": 20,
   "metadata": {},
   "outputs": [
    {
     "name": "stdout",
     "output_type": "stream",
     "text": [
      "[-0.08406551 -0.13043371  0.13813655  0.05517982  0.          0.\n",
      "  0.          0.          0.          0.          0.          0.\n",
      "  0.          0.          0.          0.        ]\n"
     ]
    }
   ],
   "source": [
    "#ws1[0,:] = 0\n",
    "#model.fc2.weights = ws1\n",
    "#model.to(device)\n",
    "print(ws1_f[:,0])\n",
    "ws1 = ws1_f"
   ]
  },
  {
   "cell_type": "code",
   "execution_count": 21,
   "metadata": {},
   "outputs": [],
   "source": [
    "## rounding weights\n",
    "def keep_in_bound(w0_round, max_=8, min_=-7):\n",
    "  to_max = np.where(w0_round>max_)[0]\n",
    "  to_min = np.where(w0_round<min_)[0]\n",
    "  w0_round[to_min] = min_\n",
    "  w0_round[to_max] = max_\n",
    "  return w0_round\n",
    "\n",
    "def select_factor(w, max_=8, min_=-7):\n",
    "    found = False\n",
    "    w_term = 1\n",
    "    while found == False:\n",
    "        w1_round = np.around(w*w_term)\n",
    "        max_f = np.max(w1_round)\n",
    "        min_f = np.min(w1_round)\n",
    "        if(max_f>=max_ or min_f<=min_):\n",
    "            found=True\n",
    "            print(\"max {}\".format(max_f))\n",
    "            print(\"min {}\".format(min_f))  \n",
    "            print(\"scale term {}\",format(w_term))\n",
    "        else:\n",
    "            w_term+=1\n",
    "    w1_round = np.around(w*w_term)\n",
    "    return w_term, w1_round"
   ]
  },
  {
   "cell_type": "code",
   "execution_count": 22,
   "metadata": {},
   "outputs": [
    {
     "name": "stdout",
     "output_type": "stream",
     "text": [
      "max 7.0\n",
      "min -6.0\n",
      "scale term {} 21\n"
     ]
    },
    {
     "data": {
      "text/plain": [
       "(array([2.000e+00, 2.000e+01, 0.000e+00, 6.900e+01, 1.970e+02, 0.000e+00,\n",
       "        1.038e+03, 4.304e+03, 0.000e+00, 5.375e+03, 3.935e+03, 0.000e+00,\n",
       "        1.028e+03, 2.960e+02, 0.000e+00, 9.100e+01, 1.900e+01, 0.000e+00,\n",
       "        9.000e+00, 1.000e+00]),\n",
       " array([-6.  , -5.35, -4.7 , -4.05, -3.4 , -2.75, -2.1 , -1.45, -0.8 ,\n",
       "        -0.15,  0.5 ,  1.15,  1.8 ,  2.45,  3.1 ,  3.75,  4.4 ,  5.05,\n",
       "         5.7 ,  6.35,  7.  ], dtype=float32),\n",
       " <a list of 20 Patch objects>)"
      ]
     },
     "execution_count": 22,
     "metadata": {},
     "output_type": "execute_result"
    },
    {
     "data": {
      "image/png": "[encoded data removed]",
      "text/plain": [
       "<Figure size 432x288 with 1 Axes>"
      ]
     },
     "metadata": {
      "needs_background": "light"
     },
     "output_type": "display_data"
    }
   ],
   "source": [
    "scaling, w0_round = select_factor(ws0, max_=7, min_=-7)\n",
    "w0_round = keep_in_bound(w0_round, max_=7, min_=-7)\n",
    "plt.hist(w0_round.reshape([-1]), 20)"
   ]
  },
  {
   "cell_type": "code",
   "execution_count": 23,
   "metadata": {},
   "outputs": [
    {
     "name": "stdout",
     "output_type": "stream",
     "text": [
      "max 7.0\n",
      "min -5.0\n",
      "scale term {} 10\n"
     ]
    },
    {
     "data": {
      "text/plain": [
       "(array([  2.,   4.,   0.,  12.,   0.,  35.,  52.,   0., 825.,   0.,  25.,\n",
       "         20.,   0.,  12.,   0.,  16.,  11.,   0.,   8.,   2.]),\n",
       " array([-5. , -4.4, -3.8, -3.2, -2.6, -2. , -1.4, -0.8, -0.2,  0.4,  1. ,\n",
       "         1.6,  2.2,  2.8,  3.4,  4. ,  4.6,  5.2,  5.8,  6.4,  7. ]),\n",
       " <a list of 20 Patch objects>)"
      ]
     },
     "execution_count": 23,
     "metadata": {},
     "output_type": "execute_result"
    },
    {
     "data": {
      "image/png": "[encoded data removed]",
      "text/plain": [
       "<Figure size 432x288 with 1 Axes>"
      ]
     },
     "metadata": {
      "needs_background": "light"
     },
     "output_type": "display_data"
    }
   ],
   "source": [
    "scaling, w1_round = select_factor(ws1, max_=7, min_=-7)\n",
    "w1_round = keep_in_bound(w1_round, max_=7, min_=-7)\n",
    "plt.hist(w1_round.reshape([-1]), 20)"
   ]
  },
  {
   "cell_type": "code",
   "execution_count": 24,
   "metadata": {},
   "outputs": [],
   "source": [
    "import os\n",
    "from datetime import date\n",
    "today = date.today()\n",
    "folder = './networks/radar_256x'+ str((hidden1_size)) +'x' +str(output_size)\n",
    "try:\n",
    "    os.stat(folder)\n",
    "except:\n",
    "    os.mkdir(folder)"
   ]
  },
  {
   "cell_type": "code",
   "execution_count": 25,
   "metadata": {},
   "outputs": [],
   "source": [
    "np.savetxt(folder+'/WS0',w0_round.T, fmt=\"%d\")\n",
    "np.savetxt(folder+'/WS1',w1_round.T, fmt=\"%d\")"
   ]
  },
  {
   "cell_type": "code",
   "execution_count": 26,
   "metadata": {},
   "outputs": [
    {
     "data": {
      "text/plain": [
       "(256, 64)"
      ]
     },
     "execution_count": 26,
     "metadata": {},
     "output_type": "execute_result"
    }
   ],
   "source": [
    "w0_round.T.shape"
   ]
  },
  {
   "cell_type": "code",
   "execution_count": 27,
   "metadata": {},
   "outputs": [
    {
     "data": {
      "text/plain": [
       "(64, 16)"
      ]
     },
     "execution_count": 27,
     "metadata": {},
     "output_type": "execute_result"
    }
   ],
   "source": [
    "w1_round.T.shape"
   ]
  },
  {
   "cell_type": "code",
   "execution_count": 28,
   "metadata": {},
   "outputs": [],
   "source": [
    "model.eval() # prep model for *evaluation*\n",
    "\n",
    "\n",
    "data=data.detach().cpu().numpy()\n",
    "target=target.detach().cpu().numpy()"
   ]
  },
  {
   "cell_type": "code",
   "execution_count": 29,
   "metadata": {},
   "outputs": [
    {
     "name": "stdout",
     "output_type": "stream",
     "text": [
      "torch.Size([6, 16, 16])\n",
      "torch.Size([6, 16, 16])\n",
      "torch.Size([6, 16, 16])\n",
      "torch.Size([6, 16, 16])\n",
      "torch.Size([6, 16, 16])\n",
      "torch.Size([6, 16, 16])\n",
      "torch.Size([6, 16, 16])\n",
      "torch.Size([6, 16, 16])\n",
      "torch.Size([6, 16, 16])\n",
      "torch.Size([6, 16, 16])\n",
      "torch.Size([6, 16, 16])\n",
      "torch.Size([6, 16, 16])\n",
      "torch.Size([6, 16, 16])\n",
      "torch.Size([6, 16, 16])\n",
      "torch.Size([6, 16, 16])\n",
      "torch.Size([6, 16, 16])\n",
      "torch.Size([6, 16, 16])\n",
      "torch.Size([6, 16, 16])\n",
      "torch.Size([6, 16, 16])\n",
      "torch.Size([6, 16, 16])\n",
      "torch.Size([6, 16, 16])\n",
      "torch.Size([6, 16, 16])\n",
      "torch.Size([6, 16, 16])\n",
      "torch.Size([6, 16, 16])\n",
      "torch.Size([6, 16, 16])\n",
      "torch.Size([6, 16, 16])\n",
      "torch.Size([6, 16, 16])\n",
      "torch.Size([6, 16, 16])\n",
      "torch.Size([6, 16, 16])\n",
      "torch.Size([6, 16, 16])\n",
      "torch.Size([6, 16, 16])\n",
      "torch.Size([6, 16, 16])\n",
      "torch.Size([6, 16, 16])\n",
      "torch.Size([6, 16, 16])\n",
      "torch.Size([6, 16, 16])\n",
      "torch.Size([6, 16, 16])\n",
      "torch.Size([6, 16, 16])\n",
      "torch.Size([6, 16, 16])\n",
      "torch.Size([6, 16, 16])\n",
      "torch.Size([6, 16, 16])\n",
      "torch.Size([6, 16, 16])\n",
      "torch.Size([6, 16, 16])\n",
      "torch.Size([6, 16, 16])\n",
      "torch.Size([6, 16, 16])\n",
      "torch.Size([6, 16, 16])\n",
      "torch.Size([6, 16, 16])\n",
      "torch.Size([6, 16, 16])\n",
      "torch.Size([6, 16, 16])\n",
      "torch.Size([6, 16, 16])\n",
      "torch.Size([6, 16, 16])\n",
      "torch.Size([6, 16, 16])\n",
      "torch.Size([6, 16, 16])\n",
      "torch.Size([6, 16, 16])\n",
      "torch.Size([6, 16, 16])\n",
      "torch.Size([6, 16, 16])\n",
      "torch.Size([1, 16, 16])\n"
     ]
    }
   ],
   "source": [
    "directory_ = folder\n",
    "\n",
    "f_x=open(directory_+'/X.txt','ab')\n",
    "f_y=open(directory_+'/Y.txt','ab')\n",
    "\n",
    "for data, target in test_loader:\n",
    "    # forward pass: compute predicted outputs by passing inputs to the model\n",
    "    print(data.shape)\n",
    "    # Append 'hello' at the end of file\n",
    "    for this_test in range(data.shape[0]):\n",
    "        input_mean_rate = np.array(np.round((data[this_test,:,:].reshape([-1]))))\n",
    "        idx_freq = np.where(input_mean_rate == 2)\n",
    "        input_mean_rate[idx_freq] = 150\n",
    "        label = target[this_test]\n",
    "        #print(label)\n",
    "        np.savetxt(f_x,[input_mean_rate], delimiter='\\t', fmt=\"%d\")\n",
    "        np.savetxt(f_y,[label], delimiter='\\n', fmt=\"%d\")\n",
    "f_x.close()\n",
    "f_y.close()"
   ]
  },
  {
   "cell_type": "code",
   "execution_count": 30,
   "metadata": {},
   "outputs": [
    {
     "data": {
      "image/png": "[encoded data removed]",
      "text/plain": [
       "<Figure size 1800x288 with 6 Axes>"
      ]
     },
     "metadata": {},
     "output_type": "display_data"
    }
   ],
   "source": [
    "x_ = np.loadtxt(directory_+'/X.txt',dtype='float',delimiter=\"\\t\")\n",
    "y_ = np.loadtxt(directory_+'/Y.txt',dtype='float',delimiter=\"\\t\")\n",
    "#plt.imshow(np.reshape(x_[2],[16,16]))\n",
    "fig = plt.figure(figsize=(25, 4))\n",
    "for idx in np.arange(6):\n",
    "    ax = fig.add_subplot(2, 6/2, idx+1, xticks=[], yticks=[])\n",
    "    ax.imshow(np.squeeze(np.reshape(x_[idx], [16,16])), cmap='gray')\n",
    "    ax.set_title(\"{} ({})\".format(str(y_[idx].item()), str(y_[idx].item())),\n",
    "                 color=(\"green\" if preds[idx]==labels[idx] else \"red\"))"
   ]
  },
  {
   "cell_type": "code",
   "execution_count": 31,
   "metadata": {},
   "outputs": [],
   "source": [
    "np.savetxt(directory_+'/WS0',w0_round.T, fmt=\"%d\")\n",
    "np.savetxt(directory_+'/WS1',w1_round.T, fmt=\"%d\")"
   ]
  },
  {
   "cell_type": "code",
   "execution_count": 32,
   "metadata": {},
   "outputs": [
    {
     "data": {
      "text/plain": [
       "(256, 64)"
      ]
     },
     "execution_count": 32,
     "metadata": {},
     "output_type": "execute_result"
    }
   ],
   "source": [
    "w0_round.T.shape"
   ]
  },
  {
   "cell_type": "code",
   "execution_count": 33,
   "metadata": {},
   "outputs": [
    {
     "data": {
      "text/plain": [
       "(64, 16)"
      ]
     },
     "execution_count": 33,
     "metadata": {},
     "output_type": "execute_result"
    }
   ],
   "source": [
    "w1_round.T.shape"
   ]
  },
  {
   "cell_type": "code",
   "execution_count": 34,
   "metadata": {},
   "outputs": [],
   "source": [
    "np.savetxt(directory_+'/WS0_T',w0_round, fmt=\"%d\")\n",
    "np.savetxt(directory_+'/WS1_T',w1_round, fmt=\"%d\")"
   ]
  },
  {
   "cell_type": "code",
   "execution_count": null,
   "metadata": {},
   "outputs": [],
   "source": []
  }
 ],
 "metadata": {
  "kernelspec": {
   "display_name": "Python 3",
   "language": "python",
   "name": "python3"
  },
  "language_info": {
   "codemirror_mode": {
    "name": "ipython",
    "version": 3
   },
   "file_extension": ".py",
   "mimetype": "text/x-python",
   "name": "python",
   "nbconvert_exporter": "python",
   "pygments_lexer": "ipython3",
   "version": "3.8.5"
  }
 },
 "nbformat": 4,
 "nbformat_minor": 4
}
